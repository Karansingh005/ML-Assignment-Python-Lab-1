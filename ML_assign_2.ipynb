{
  "nbformat": 4,
  "nbformat_minor": 0,
  "metadata": {
    "colab": {
      "name": "ML-assign-2.ipynb",
      "provenance": [],
      "collapsed_sections": []
    },
    "kernelspec": {
      "name": "python3",
      "display_name": "Python 3"
    },
    "language_info": {
      "name": "python"
    }
  },
  "cells": [
    {
      "cell_type": "markdown",
      "metadata": {
        "id": "V0VQMQMplOl6"
      },
      "source": [
        "# Python Introduction Lab\n",
        "# Assignment-1\n",
        "\n",
        "## Name: Karan Singh\n",
        "## Class: CSE-1\n",
        "## Enrollment Number: 05713202717"
      ]
    },
    {
      "cell_type": "markdown",
      "metadata": {
        "id": "mQlMp6xmlxBj"
      },
      "source": [
        "### Q1. Create a program that asks the user to enter their name and their age. Print out a message addressed to them that tells them the year that they will turn 100 years old. \n",
        "\n",
        "### Extras:\n",
        "\n",
        "\n",
        "\n",
        "1.   Add on to the previous program by asking the user for another number and printing out that many copies of the previous message.\n",
        "2.   Print out that many copies of the previous message on separate lines. (Hint: the string \"\\n is the same as pressing the ENTER button)\n",
        "\n"
      ]
    },
    {
      "cell_type": "code",
      "metadata": {
        "colab": {
          "base_uri": "https://localhost:8080/"
        },
        "id": "S6-0LRp8k-ib",
        "outputId": "b658a2c4-4ea3-470a-b394-a11a224b8d43"
      },
      "source": [
        "import datetime\n",
        "\n",
        "now = datetime.datetime.now().year\n",
        "name = input('Enter your name: ')\n",
        "age = input('Enter your age: ')\n",
        "\n",
        "year = now + 100 - int(age)\n",
        "result = name + ' your age will be 100 years old in the year ' + str(year)+'.' + '\\n'\n",
        "print(result)\n",
        "\n",
        "# Extras:\n",
        "print('Extras:')\n",
        "repeat_msg = input('Enter number of copies of the previous message: ')\n",
        "\n",
        "print(result * int(repeat_msg))"
      ],
      "execution_count": 2,
      "outputs": [
        {
          "output_type": "stream",
          "text": [
            "Enter your name: Karan Singh\n",
            "Enter your age: 21\n",
            "Karan Singh your age will be 100 years old in the year 2100.\n",
            "\n",
            "Extras:\n",
            "Enter number of copies of the previous message: 5\n",
            "Karan Singh your age will be 100 years old in the year 2100.\n",
            "Karan Singh your age will be 100 years old in the year 2100.\n",
            "Karan Singh your age will be 100 years old in the year 2100.\n",
            "Karan Singh your age will be 100 years old in the year 2100.\n",
            "Karan Singh your age will be 100 years old in the year 2100.\n",
            "\n"
          ],
          "name": "stdout"
        }
      ]
    },
    {
      "cell_type": "markdown",
      "metadata": {
        "id": "Vo6mW7OllNCu"
      },
      "source": [
        "### Q2. Take a list, say for example this one: a = [1, 1, 2, 3, 5, 8, 13, 21, 34, 55, 89] and write a program that prints out all the elements of the list that are less than 5. \n",
        "### Extras:\n",
        "\n",
        "\n",
        "1.   Instead of printing the elements one by one, make a new list that has all the elements less than 5 from this list in it and print out this new list.\n",
        "2.   Write this in one line of Python.\n",
        "3.   Ask the user for a number and return a list that contains only elements from the original list a that are smaller than that number given by the user.\n",
        "\n",
        "\n"
      ]
    },
    {
      "cell_type": "code",
      "metadata": {
        "colab": {
          "base_uri": "https://localhost:8080/"
        },
        "id": "XJ3eGhWnnUCp",
        "outputId": "a3d6518e-3d49-4f11-be27-66a0e921744e"
      },
      "source": [
        "a = [1, 1, 2, 3, 5, 8, 13, 21, 34, 55, 89]\n",
        "\n",
        "for element in a:\n",
        "    if( int(element) < 5 ):\n",
        "        print(str(element)+\"\\n\")\n",
        "        \n",
        "print('Extras:')\n",
        "#Extras:  \n",
        "\n",
        "new_list = [ ele for ele in a if ele < 5 ]\n",
        "print('New List is : ' + str(new_list))\n",
        "\n",
        "num = input('Enter a number to print all the numbers that are smaller than that number: ')\n",
        "print([ ele for ele in a if ele < int(num) ])"
      ],
      "execution_count": 3,
      "outputs": [
        {
          "output_type": "stream",
          "text": [
            "1\n",
            "\n",
            "1\n",
            "\n",
            "2\n",
            "\n",
            "3\n",
            "\n",
            "Extras:\n",
            "New List is : [1, 1, 2, 3]\n",
            "Enter a number to print all the numbers that are smaller than that number: 23\n",
            "[1, 1, 2, 3, 5, 8, 13, 21]\n"
          ],
          "name": "stdout"
        }
      ]
    },
    {
      "cell_type": "markdown",
      "metadata": {
        "id": "oWtv0C5dnfYb"
      },
      "source": [
        "### Q3. Write a program that asks the user how many Fibonacci numbers to generate and then generates them. Take this opportunity to think about how you can use functions. Make sure to ask the user to enter the number of numbers in the sequence to generate.(Hint: The Fibonacci seqence is a sequence of numbers where the next number in the sequence is the sum of the previous two numbers in the sequence. The sequence looks like this: 1, 1, 2, 3, 5, 8, 13, ...)"
      ]
    },
    {
      "cell_type": "code",
      "metadata": {
        "colab": {
          "base_uri": "https://localhost:8080/"
        },
        "id": "yNIdMmfNnpSM",
        "outputId": "21806fa4-c096-48dd-d63c-80f25571c1f6"
      },
      "source": [
        "def fibonacci(nterms):\n",
        "    n1, n2 = 0, 1\n",
        "    count = 0\n",
        "    if nterms <= 0:\n",
        "        print(\"Please enter a positive integer\")\n",
        "    elif nterms == 1:\n",
        "        print(\"Fibonacci sequence upto\",nterms,\":\")\n",
        "        print(n1)\n",
        "    else:\n",
        "        print(\"Fibonacci sequence:\")\n",
        "        while count < nterms:\n",
        "            print(n1)\n",
        "            nth = n1 + n2\n",
        "            n1 = n2\n",
        "            n2 = nth\n",
        "            count += 1\n",
        "num_lmt = input('Please enter the length of Fibonacci series: ')\n",
        "fibonacci(int(num_lmt))"
      ],
      "execution_count": 4,
      "outputs": [
        {
          "output_type": "stream",
          "text": [
            "Please enter the length of Fibonacci series: 8\n",
            "Fibonacci sequence:\n",
            "0\n",
            "1\n",
            "1\n",
            "2\n",
            "3\n",
            "5\n",
            "8\n",
            "13\n"
          ],
          "name": "stdout"
        }
      ]
    },
    {
      "cell_type": "markdown",
      "metadata": {
        "id": "f2oEnxHsnyqm"
      },
      "source": [
        "### Q4. Write a program (function!) that takes a list and returns a new list that contains all the elements of the first list minus all the duplicates. \n",
        "\n",
        "### Extras:\n",
        "#### Write two different functions to do this - one using a loop and constructing a list, and another using sets."
      ]
    },
    {
      "cell_type": "code",
      "metadata": {
        "colab": {
          "base_uri": "https://localhost:8080/"
        },
        "id": "_il-nekSoCEl",
        "outputId": "04321f40-6df8-4f49-ce6f-c84332a74ad8"
      },
      "source": [
        "def duplicate_f1(x):\n",
        "    new_list = []\n",
        "    for i in x:\n",
        "        if i not in new_list:\n",
        "            new_list.append(i)\n",
        "    return new_list\n",
        "\n",
        "def duplicate_f2(x):\n",
        "    return list(set(x))\n",
        "\n",
        "user_list=[]\n",
        "limit = int(input('Enter the length of the list: '))\n",
        "for i in range(limit):\n",
        "    ele = int(input('Enter '+str(i)+'th element:'))\n",
        "    user_list.append(ele)\n",
        "    \n",
        "print(user_list)\n",
        "print ('Function using loop: '+str(duplicate_f1(user_list)))\n",
        "print ('Function using set: '+str(duplicate_f2(user_list)))"
      ],
      "execution_count": 5,
      "outputs": [
        {
          "output_type": "stream",
          "text": [
            "Enter the length of the list: 5\n",
            "Enter 0th element:4\n",
            "Enter 1th element:2\n",
            "Enter 2th element:7\n",
            "Enter 3th element:8\n",
            "Enter 4th element:9\n",
            "[4, 2, 7, 8, 9]\n",
            "Function using loop: [4, 2, 7, 8, 9]\n",
            "Function using set: [2, 4, 7, 8, 9]\n"
          ],
          "name": "stdout"
        }
      ]
    },
    {
      "cell_type": "markdown",
      "metadata": {
        "id": "2GQRpB90oQTZ"
      },
      "source": [
        "### Q5. Ask the user for a number and determine whether the number is prime or not. (For those who have forgotten, a prime number is a number that has no divisors.). Use functions."
      ]
    },
    {
      "cell_type": "code",
      "metadata": {
        "colab": {
          "base_uri": "https://localhost:8080/"
        },
        "id": "EYe5OZ3YoUJ6",
        "outputId": "c586db82-e657-4b0a-a41d-ffaec56c61cc"
      },
      "source": [
        "def prime(num):\n",
        "    flag = False\n",
        "    if num > 1:\n",
        "        for i in range(2, num):\n",
        "            if (num % i) == 0:\n",
        "                flag = True\n",
        "                break\n",
        "    if flag:\n",
        "        print(num, \"is not a prime number.\")\n",
        "    else:\n",
        "        print(num, \"is a prime number.\")\n",
        "num = int(input('Enter the number to check whether it is prime or not: '))\n",
        "prime(num)"
      ],
      "execution_count": 6,
      "outputs": [
        {
          "output_type": "stream",
          "text": [
            "Enter the number to check whether it is prime or not: 14\n",
            "14 is not a prime number.\n"
          ],
          "name": "stdout"
        }
      ]
    }
  ]
}